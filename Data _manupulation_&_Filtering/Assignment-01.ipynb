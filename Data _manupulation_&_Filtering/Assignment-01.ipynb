{
 "cells": [
  {
   "cell_type": "markdown",
   "id": "60b80936",
   "metadata": {},
   "source": [
    "## STAT-650_733000826"
   ]
  },
  {
   "cell_type": "markdown",
   "id": "00d34775",
   "metadata": {},
   "source": [
    "# Problem - 1\n",
    "\n",
    "1. Import Python packages that may be useful for examining a given dataset, and set plot style as \"$\\texttt{searborn-darkgrid}$\".\n",
    "2. Import $\\texttt{tips.csv}$ dataset and print the size and the first five observations of the dataset\n",
    "3. Use the parameter **total_bill** to compute the following summary statistics\n",
    "    - Mean\n",
    "    - Median\n",
    "    - Standard Deviation\n",
    "    - Range\n",
    "    - The Interquartile Range?\n",
    "    - Skewness\n",
    "    \n",
    "    \n",
    " 4. Also find how many outlier observations are there?\n",
    "\n",
    "\n",
    "[$6 + 3 + (3\\times 6) + 3 = 30$ marks]"
   ]
  },
  {
   "cell_type": "markdown",
   "id": "a1f0c561",
   "metadata": {},
   "source": [
    "## Solution Problem 1:\n"
   ]
  },
  {
   "cell_type": "code",
   "execution_count": 1,
   "id": "9cf36834",
   "metadata": {},
   "outputs": [
    {
     "ename": "ModuleNotFoundError",
     "evalue": "No module named 'pingouin'",
     "output_type": "error",
     "traceback": [
      "\u001b[1;31m---------------------------------------------------------------------------\u001b[0m",
      "\u001b[1;31mModuleNotFoundError\u001b[0m                       Traceback (most recent call last)",
      "\u001b[1;32mc:\\Users\\Sneha Mishra\\OneDrive\\Documents\\Coursework\\STAT-650\\Assignments\\Assignment_1\\Assignment-01.ipynb Cell 4\u001b[0m in \u001b[0;36m<cell line: 8>\u001b[1;34m()\u001b[0m\n\u001b[0;32m      <a href='vscode-notebook-cell:/c%3A/Users/Sneha%20Mishra/OneDrive/Documents/Coursework/STAT-650/Assignments/Assignment_1/Assignment-01.ipynb#W3sZmlsZQ%3D%3D?line=5'>6</a>\u001b[0m \u001b[39mimport\u001b[39;00m \u001b[39mscipy\u001b[39;00m\u001b[39m.\u001b[39;00m\u001b[39mstats\u001b[39;00m \u001b[39mas\u001b[39;00m \u001b[39mstats\u001b[39;00m\n\u001b[0;32m      <a href='vscode-notebook-cell:/c%3A/Users/Sneha%20Mishra/OneDrive/Documents/Coursework/STAT-650/Assignments/Assignment_1/Assignment-01.ipynb#W3sZmlsZQ%3D%3D?line=6'>7</a>\u001b[0m \u001b[39mimport\u001b[39;00m \u001b[39mstatsmodels\u001b[39;00m\u001b[39m.\u001b[39;00m\u001b[39mapi\u001b[39;00m \u001b[39mas\u001b[39;00m \u001b[39msm\u001b[39;00m\n\u001b[1;32m----> <a href='vscode-notebook-cell:/c%3A/Users/Sneha%20Mishra/OneDrive/Documents/Coursework/STAT-650/Assignments/Assignment_1/Assignment-01.ipynb#W3sZmlsZQ%3D%3D?line=7'>8</a>\u001b[0m \u001b[39mimport\u001b[39;00m \u001b[39mpingouin\u001b[39;00m \u001b[39mas\u001b[39;00m \u001b[39mpg\u001b[39;00m\n\u001b[0;32m     <a href='vscode-notebook-cell:/c%3A/Users/Sneha%20Mishra/OneDrive/Documents/Coursework/STAT-650/Assignments/Assignment_1/Assignment-01.ipynb#W3sZmlsZQ%3D%3D?line=9'>10</a>\u001b[0m sns\u001b[39m.\u001b[39mset_style(\u001b[39m\"\u001b[39m\u001b[39mdarkgrid\u001b[39m\u001b[39m\"\u001b[39m, rc\u001b[39m=\u001b[39m\u001b[39mNone\u001b[39;00m)\n\u001b[0;32m     <a href='vscode-notebook-cell:/c%3A/Users/Sneha%20Mishra/OneDrive/Documents/Coursework/STAT-650/Assignments/Assignment_1/Assignment-01.ipynb#W3sZmlsZQ%3D%3D?line=11'>12</a>\u001b[0m \u001b[39m# 2. Importing tips.csv dataset and printing the size and the first five observations of the dataset\u001b[39;00m\n",
      "\u001b[1;31mModuleNotFoundError\u001b[0m: No module named 'pingouin'"
     ]
    }
   ],
   "source": [
    "# 1. Importing Packages\n",
    "import numpy as np\n",
    "import pandas as pd\n",
    "import matplotlib.pyplot as plt\n",
    "import seaborn as sns\n",
    "import scipy.stats as stats\n",
    "import statsmodels.api as sm\n",
    "import pingouin as pg\n",
    "\n",
    "sns.set_style(\"darkgrid\", rc=None)\n",
    "\n",
    "# 2. Importing tips.csv dataset and printing the size and the first five observations of the dataset\n",
    "df = pd.read_csv('tips.csv', sep=',')\n",
    "print(df.shape)\n",
    "df.head()"
   ]
  },
  {
   "cell_type": "markdown",
   "id": "e918871c",
   "metadata": {},
   "source": [
    "The size of the dataframe is (244, 7). <br>\n",
    "The first five observations of the dataset is printed above."
   ]
  },
  {
   "cell_type": "code",
   "execution_count": 125,
   "id": "44812707",
   "metadata": {},
   "outputs": [
    {
     "data": {
      "text/html": [
       "<div>\n",
       "<style scoped>\n",
       "    .dataframe tbody tr th:only-of-type {\n",
       "        vertical-align: middle;\n",
       "    }\n",
       "\n",
       "    .dataframe tbody tr th {\n",
       "        vertical-align: top;\n",
       "    }\n",
       "\n",
       "    .dataframe thead th {\n",
       "        text-align: right;\n",
       "    }\n",
       "</style>\n",
       "<table border=\"1\" class=\"dataframe\">\n",
       "  <thead>\n",
       "    <tr style=\"text-align: right;\">\n",
       "      <th></th>\n",
       "      <th>total_bill</th>\n",
       "    </tr>\n",
       "  </thead>\n",
       "  <tbody>\n",
       "    <tr>\n",
       "      <th>mean</th>\n",
       "      <td>19.785943</td>\n",
       "    </tr>\n",
       "    <tr>\n",
       "      <th>median</th>\n",
       "      <td>17.795000</td>\n",
       "    </tr>\n",
       "    <tr>\n",
       "      <th>std</th>\n",
       "      <td>8.902412</td>\n",
       "    </tr>\n",
       "    <tr>\n",
       "      <th>min</th>\n",
       "      <td>3.070000</td>\n",
       "    </tr>\n",
       "    <tr>\n",
       "      <th>max</th>\n",
       "      <td>50.810000</td>\n",
       "    </tr>\n",
       "    <tr>\n",
       "      <th>skew</th>\n",
       "      <td>1.133213</td>\n",
       "    </tr>\n",
       "  </tbody>\n",
       "</table>\n",
       "</div>"
      ],
      "text/plain": [
       "        total_bill\n",
       "mean     19.785943\n",
       "median   17.795000\n",
       "std       8.902412\n",
       "min       3.070000\n",
       "max      50.810000\n",
       "skew      1.133213"
      ]
     },
     "execution_count": 125,
     "metadata": {},
     "output_type": "execute_result"
    }
   ],
   "source": [
    "# 3. Summary Statistics using parameter total_bill\n",
    "df.agg( \n",
    "    {\n",
    "          \"total_bill\": [\"mean\", \"median\", \"std\", \"min\", \"max\", \"skew\"] \n",
    "          \n",
    "    } \n",
    ")\n",
    "\n"
   ]
  },
  {
   "cell_type": "markdown",
   "id": "5c176865",
   "metadata": {},
   "source": [
    "Therefore as per the above output, <br>\n",
    "mean = 19.79 approx <br>\n",
    "median = 17.80 approx <br>\n",
    "standard deviation = 8.90 approx <br>\n",
    "range = [min = 3.07, max = 50.81], range value: max - min = 47.74 <br>\n",
    "skew = 1.13 approx (positive, right skewed) <br>"
   ]
  },
  {
   "cell_type": "code",
   "execution_count": 112,
   "id": "af207fad",
   "metadata": {},
   "outputs": [
    {
     "name": "stdout",
     "output_type": "stream",
     "text": [
      "10.779999999999998\n"
     ]
    }
   ],
   "source": [
    "# Calculating interquartile range\n",
    "q75, q25 = np.percentile(df[\"total_bill\"], [75 ,25])\n",
    "iqr = q75 - q25\n",
    "print(iqr)"
   ]
  },
  {
   "cell_type": "markdown",
   "metadata": {},
   "source": [
    "Interquartile range = 10.78 approx"
   ]
  },
  {
   "cell_type": "code",
   "execution_count": 114,
   "id": "6ad0a8e8",
   "metadata": {},
   "outputs": [
    {
     "name": "stdout",
     "output_type": "stream",
     "text": [
      "9\n"
     ]
    }
   ],
   "source": [
    "# 4. Calculating number of Outliers in total_bills\n",
    "# LIF, UIF : Lower and upper fences\n",
    "\n",
    "LIF = q25 - 1.5*iqr\n",
    "UIF = q75 + 1.5*iqr\n",
    "Outliers_count = (df[\"total_bill\"] < LIF).sum() + (df[\"total_bill\"] > UIF).sum()\n",
    "print(Outliers_count)\n"
   ]
  },
  {
   "cell_type": "markdown",
   "id": "57306317",
   "metadata": {},
   "source": [
    "# Problem - 2 \n",
    "1. Describe **total_bill** based on the summary statistics \\\n",
    "    (Hint: Here we are interested in the shape of the distribution. You may consider the following options:\n",
    "    - Examine histogram and check size/length of tails: (longer left tail $\\implies$ left-skewed, longer right tail $\\implies$ right-skewed)\n",
    "    - Use skewness (negative=left-skewed, positive=right-skewed)\n",
    "    - Compare the relative position of median and mean (mean<median $\\implies$ left-skewed, mean>median $\\implies$ right-skewed))\n",
    "2. Plot the distribution of the parameter **total_bill** and justify your answer in part 1.\n",
    "\n",
    "[$10 + 10 = 20$ marks]"
   ]
  },
  {
   "cell_type": "markdown",
   "id": "804f1ec7",
   "metadata": {},
   "source": [
    "## Solution Problem 2:\n"
   ]
  },
  {
   "cell_type": "markdown",
   "id": "a3305d5e",
   "metadata": {},
   "source": [
    "1. Description of total_bill based on summary statistics:\n",
    "\n",
    "- As per the summary statistics calculated in problem 1, mean (19.79 approx) is greater than median (17.80 approx). This implies that the plot is right-skewed. \n",
    "- As per the histogram plotted below, it has a longer right tail. Hence, it further confirms the above results. \n",
    "\n",
    "2. Plotting of total_bill and justification of plot using ressults from part 1:\n",
    "\n",
    "- From summary statistics data from problem 1, skew = 1.13 (positive). Therefore, right-skewed. This can be confirmed from the histogram plotted below for count vs total_bill, which has a longer right tail.\n",
    "- It implies all the nine outliers calculated in problem one lies on the right side of the plot and is right-skewed. Therefore, the plot aligns with the results and observations from the summary statistics discussed above.\n"
   ]
  },
  {
   "cell_type": "code",
   "execution_count": 160,
   "id": "8ba2a895",
   "metadata": {},
   "outputs": [
    {
     "data": {
      "text/plain": [
       "Text(0.5, 1.0, 'Count vs total_bill plot for tips dataset')"
      ]
     },
     "execution_count": 160,
     "metadata": {},
     "output_type": "execute_result"
    },
    {
     "data": {
      "image/png": "[encoded data removed]",
      "text/plain": [
       "<Figure size 640x480 with 1 Axes>"
      ]
     },
     "metadata": {},
     "output_type": "display_data"
    }
   ],
   "source": [
    "# Plotting Histogram and checking size/length of tails:\n",
    "sns.histplot(df.total_bill, kde=True).set_title('Count vs total_bill plot for tips dataset')\n"
   ]
  },
  {
   "cell_type": "markdown",
   "id": "d93626db",
   "metadata": {},
   "source": [
    "# Problem - 3 : Data filtering\n",
    "1. What is the average number of bills per day?\n",
    "2. How many days had more that 60 bills?\n",
    "3. What is the average percentage tip for male servers (compute by using operations: $\\texttt{query}$, $\\texttt{indexer}$ and $\\texttt{groupby}$ )?\\\n",
    "Hint:\\\n",
    "• Method $\\texttt{query}$ uses a string to describe the condition used in the filter.\n",
    "        – df.query(\"sex=='Male'\") performs the filtering of the required rows.\n",
    "        – df.query(\"sex=='Male'\")['percentage_tip'] performs the filtering of rows and then selects the required column.\n",
    "        – df.query(\"sex=='Male'\")['percentage_tip'].mean() performs … and then calculates the required mean.\n",
    "• Method $\\texttt{loc}$ uses python expression to describe the condition used in the filter.\n",
    "        – loc is an indexer so even though it is a function it uses [] and not ()\n",
    "• Method $\\texttt{groupby}$ divides the dataset into groups\n",
    "        – df.groupby(\"sex\") group data based on specified column(s)\n",
    "        – df.groupby(\"sex\")['percentage_tip'] select column percentage_tip in all groups\n",
    "        – df.groupby(\"sex\")['percentage_tip'].mean() apply required aggregate function\n",
    "4. Which group size gives the lowest percentage tip on average?\n",
    "5. What is the max percentage tip for female servers over the weekend (Sat or Sun)? Solve by using operations $\\texttt{query}$ and $\\texttt{loc}$.\n",
    "6. Picking a bill at random, what is the probability that the server is female? \n",
    "(Hint: Filter using $\\texttt{query/loc}$ and compute probability)\n",
    "7. Picking a bill at random, what is the probability that the server is female given that the day was Sunday\n",
    "8. Which meal time has the highest mean tips?\n",
    "9. True or False: “**Despite female servers having higher average percentage tips, it is male servers who earn the highest percentage tips**” \n",
    "\n",
    "    This sentence has two claims:\n",
    "        • “female servers have higher average percentage tips”\n",
    "        • “male servers earn the highest percentage tips”\n",
    "    you must verify both.\n",
    "\n",
    "10. Which is the busiest day (in terms of the number of meals served)?\n",
    "\n",
    "\n",
    "[$5\\times 10 = 50$ marks]"
   ]
  },
  {
   "cell_type": "markdown",
   "id": "6e3d3484",
   "metadata": {},
   "source": [
    "# Solution Problem 3:\n"
   ]
  },
  {
   "cell_type": "code",
   "execution_count": 163,
   "id": "1f7f8b00",
   "metadata": {},
   "outputs": [
    {
     "name": "stdout",
     "output_type": "stream",
     "text": [
      "Question 1 ans = \n",
      "       total_bill_mean\n",
      "day                  \n",
      "Fri         17.151579\n",
      "Sat         20.441379\n",
      "Sun         21.410000\n",
      "Thur        17.682742\n",
      "Question 2 ans = 3\n",
      "Question 3 ans = 15.765054700429744\n",
      "Question 3 ans = 15.765054700429744\n",
      "Question 3 ans = 15.765054700429744\n",
      "Question 4 ans = 5\n",
      "Question 5 ans = 41.66666666666667\n",
      "Question 5 ans = 41.66666666666667\n",
      "Question 6 ans = 0.35655737704918034\n",
      "Question 7 ans = 0.23684210526315788\n",
      "Question 8 ans = Dinner\n",
      "Question 9 ans = True\n",
      "Question 10 ans = Sat\n"
     ]
    }
   ],
   "source": [
    "# 1. Average number of bills per day\n",
    "print(\"Question 1 ans = \\n\", df.groupby(\"day\").agg(total_bill_mean=(\"total_bill\", \"mean\")))\n",
    "\n",
    "# 2. Number of days having more than 60 bills\n",
    "cnt_df = df.groupby(\"day\").agg(count=(\"total_bill\", \"count\"))\n",
    "print(\"Question 2 ans =\", len(cnt_df.query('count > 60')))\n",
    "\n",
    "# 3. Average percentage tip for male srvers\n",
    "df[\"percentage_tip\"] = df[\"tip\"]/df[\"total_bill\"]*100\n",
    "print(\"Question 3 ans =\", df.query(\"sex=='Male'\")['percentage_tip'].mean())\n",
    "print(\"Question 3 ans =\", df.loc[df.sex==\"Male\"]['percentage_tip'].mean())\n",
    "print(\"Question 3 ans =\", df.groupby(\"sex\")['percentage_tip'].mean()[\"Male\"])\n",
    "\n",
    "# 4. Group size with the lowest percentage tip on average\n",
    "grp_pct_df = df.groupby(\"size\").agg(percentage_tip_mean=(\"percentage_tip\",\"mean\"))\n",
    "print(\"Question 4 ans =\", grp_pct_df[\"percentage_tip_mean\"].idxmin())\n",
    "\n",
    "# 5. Max percentage tip for female servers over the weekend (Sat or Sun)\n",
    "fml_wknd_df = df.query(\"sex=='Female' and (day=='Sat' or day=='Sun')\")\n",
    "print(\"Question 5 ans =\", fml_wknd_df[\"percentage_tip\"].max())\n",
    "\n",
    "fml_wknd_df2 = df.loc[(df['sex']=='Female') & ((df['day']=='Sat') | (df['day']=='Sun'))]\n",
    "print(\"Question 5 ans =\", fml_wknd_df2[\"percentage_tip\"].max())\n",
    "\n",
    "# 6. Picking a bill at random, probability that the server is female\n",
    "print(\"Question 6 ans =\", len(df.query(\"sex=='Female'\"))/len(df))\n",
    "\n",
    "# 7. Picking a bill at random, probability that the server is female given that the day was Sunday\n",
    "print(\"Question 7 ans =\", len(df.query(\"sex=='Female' and day=='Sun'\"))/len(df.query(\"day=='Sun'\")))\n",
    "\n",
    "# 8. Meal time with the highest mean tips\n",
    "print(\"Question 8 ans =\", df.groupby(\"time\").agg(total_bill_mean=(\"total_bill\", \"mean\"))[\"total_bill_mean\"].idxmax())\n",
    "\n",
    "# 9. True or False verification: \"Despite female servers having higher average percentage tips, it is male servers who earn the highest percentage tips\"\n",
    "male_has_highest_pct = df.query(\"sex=='Male'\")['percentage_tip'].max() > df.query(\"sex=='Female'\")['percentage_tip'].max()\n",
    "fml_has_highest_avg_pct = df.query(\"sex=='Female'\")['percentage_tip'].mean() > df.query(\"sex=='Male'\")['percentage_tip'].mean()\n",
    "print(\"Question 9 ans =\", male_has_highest_pct and fml_has_highest_avg_pct)\n",
    "\n",
    "# 10. Busiest day in terms of number of meals served\n",
    "print(\"Question 10 ans =\", df.groupby(\"day\").agg(total_meals_served=(\"size\", \"sum\"))[\"total_meals_served\"].idxmax())\n"
   ]
  }
 ],
 "metadata": {
  "kernelspec": {
   "display_name": "Python 3.9.12 ('base')",
   "language": "python",
   "name": "python3"
  },
  "language_info": {
   "codemirror_mode": {
    "name": "ipython",
    "version": 3
   },
   "file_extension": ".py",
   "mimetype": "text/x-python",
   "name": "python",
   "nbconvert_exporter": "python",
   "pygments_lexer": "ipython3",
   "version": "3.9.12"
  },
  "vscode": {
   "interpreter": {
    "hash": "ec82f12a2cb47047b534e9c669340dcebb498bf61f15a6577c32df05515dbebf"
   }
  }
 },
 "nbformat": 4,
 "nbformat_minor": 5
}
