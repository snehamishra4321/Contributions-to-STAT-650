{
 "cells": [
  {
   "cell_type": "markdown",
   "id": "d2b2fbab",
   "metadata": {},
   "source": [
    "### <center>STAT 650   Assignment-03 </center>\n",
    "\n",
    "_______________________________________________________________________________________________________________________________\n",
    "$\\bf{Instructions:}$\n",
    "- This assignment is based on materials coverved in Lectures 05, 06 and 07.\n",
    "- We highly recommend that you write your solutions in **Jupyter Notebook** and convert them to a **PDF** file. However, you may write the solutions by hand, scan and upload it as **.pdf** file.\n",
    "- The PDF file should be under 15MB in size. It must be uploaded as a single file and not separate files for separate pages. Do not take a photo of each page and then paste them into a document - this will make your file too big and the results will generally not be very readable anyway.\n",
    "- Please make sure that the solutions are neat, legible and in order (even if you choose to solve them in different order). \n",
    "- Include **STAT650--UIN** at the top of the first page.\n",
    "- Name the file as **UIN_assign3.pdf** (For eg, if someone's UIN is 123456789, then the file should be named 123456789_assign3.pdf).  Otherwise, your submission will not be graded.\n",
    "- You should upload your file through Canvas, by 11:59PM U.S. Central time, on the due date. You can make multiple submissions within the due date, but only the latest submission will be considered for grading.\n",
    "- You may take 6 hours extra after the due time, but 10% of your marks will be deducted. \n",
    "- It is strictly prohibited to share or distribute the content in this document.\n",
    "\n",
    "The aim of this assignment is to get familiar with basic concepts in probability. \n",
    "______________________________________________________________________________________________________________________________"
   ]
  },
  {
   "cell_type": "markdown",
   "id": "7fbe1759",
   "metadata": {},
   "source": [
    "# Question 1\n",
    "Suppose $A$ and $B$ are two mutually exclusive events, with $P(A)=0.3$ and $P(B)=0.5$. What is the probability that:\n",
    "1.  either $A$ or $B$ occure\n",
    "2.  $A$ occurs but $B$ does not,\n",
    "3.  both $A$ and $B$ occur\n",
    "\n",
    "[$5\\times 3=15$ marks]\n",
    "\n",
    "# Question 2\n",
    "A retail establishment accepts either the American Express or the VISA credit card. A total of 24 percent of its customers carry  an American Express card, 61 percent carry a VISA card, and 11 percent carry both cards. What percentage of its customers carry a credit card that the establishment will accept?\\\n",
    "[$5$ marks]\n"
   ]
  },
  {
   "cell_type": "markdown",
   "id": "840d4912",
   "metadata": {},
   "source": [
    "# Question 3\n",
    "An elementary school is offering 3 language classes: one in Spanish, one in French, and one in German. The classes are open to any of the 100 students in the school. There are 28 students in the Spanish class, 26 in the French class, and 16 in the German class. There are 12 students that are in both Spanish and French, 4 that are in both Spanish and German, and 6 that are in both French and German. In addition, there are 2 students taking all 3 classes.\n",
    "1. If a student is chosen randomly, what is the probability that he or she is not in any of the language classes?\n",
    "2. If a student is chosen randomly, what is the probability that he or she is taking exactly one language class? \n",
    "3. If 2 students are chosen randomly, what is the probability that at least 1 is taking a language class?\n",
    "\n",
    "(Hint: You may use Venn diagram to answer this question)\\\n",
    "[$5\\times 3=15$ marks]\n",
    "\n",
    "# Question 4\n",
    "An urn contains 3 red and 7 black balls. Players A and B withdraw balls from the urn consecutively until a red ball is selected. A draws the first ball, then B, and so on. The balls are replaced after each draw. Find the probability that A selects the red ball.\\\n",
    "(Hint: A may select in the  first round, if not, then the favourable case would be if A and B both select a black ball in the first round of draws and then in the second draw A picks a red ball. If not, then A and B both pick black balls in the first two rounds and then A picks a red ball in the third draw, and so on.)\\\n",
    "[$10$ marks]"
   ]
  },
  {
   "cell_type": "markdown",
   "id": "58851850",
   "metadata": {},
   "source": [
    "# Question 5\n",
    "Two supervisors are to be selected as safety representatives within the company. Given that there are six supervisors in research and four in development, and  each group  of two supervisors has the same chance of being selected, find the probability of choosing both the supervisors from research. \\\n",
    "[$10$ marks]\n",
    "# Question 6\n",
    "The 2004 Men's Champion in the Wimbledon Tennis Tournament was Roger Federer of Switzerland. During the tournament, he made $64\\%$ of his first saves. So, he faulted on the first $36\\%$ of the time. Given that he made a fault with his first save, he made a fault on his second serve only $6%$ of the time. Assuming these are typical of his perfromance, when he serves, what is the probability that he makes a double fault?\\\n",
    "[$10$ marks]"
   ]
  },
  {
   "cell_type": "markdown",
   "id": "c3982379",
   "metadata": {},
   "source": [
    "# Question 7\n",
    "The Triple Blood Test screens pregnant women for the genetic disorder, Down syndrome. This syndrome, which occurs in about $1$ in $800$ live births, arises from an error in cell division that results in a fetus having an extra copy of chromosome $21$. It is the most common genetic cause of mental impairment. The chance of having a baby with Down syndrome increases after a woman is $35$ years old.\\\n",
    "A study of 5282 women aged 35 or over analyzed the Triple Blood Test to test its accuracy. It was reported that of the 5282 women, 48 of the 54 cases of Down syndrome would have been identified using the test and $25\\%$ of the unaffected pregnancies would have been identified as being at high risk for Down syndrome. \n",
    "\n",
    "Use the following notation for the possible outcomes of the two variables \n",
    "- Down syndrom status: $D$ = Down syndrome status is present, $D^c$ = unaffected\n",
    "- Blood test result: $POS$ = positive, $NEG$ = negative \n",
    "\n",
    "Explore the following questions:\n",
    "1. Complete the following contigency table that shows the counts for the possible outcomes of the blood test\n",
    "\n",
    "| Down Syndrome| POS | NEG | Total | \n",
    "| ---         | --  | --  | --    |\n",
    "| <center>$D$ </center>        | --  | --  | --    |   \n",
    "| <center>$D^c$ </center>      | --  | --  | --    |\n",
    "| <center>**Total** </center>      | --  | --  | --    |\n",
    "\n",
    "2. Assuming the sample is representative of the population, find the estimated probability of a positive test for a randomly chosen pregnant woman 35 years or older. \n",
    "3. Given that the diagnostic test result is positive, find the estimated probability that Down syndrome is truly present.\n",
    "4. Given that the diagnostic test result is negative, find the estimated probability that Down syndrome is truly present.\n",
    "5. Justify why do you think women should undergo this test? \n",
    "6. Are the events $POS$ (positive test result) and $D$ (Down syndrome is present) independent or dependent?\n",
    "7. Are the events $POS$ (positive test result) and $D^c$ (Down syndrome is absent) independent or dependent?\n",
    "\n",
    "\n",
    "[$5\\times 7=35$ marks]"
   ]
  }
 ],
 "metadata": {
  "kernelspec": {
   "display_name": "Python 3.10.6 64-bit",
   "language": "python",
   "name": "python3"
  },
  "language_info": {
   "codemirror_mode": {
    "name": "ipython",
    "version": 3
   },
   "file_extension": ".py",
   "mimetype": "text/x-python",
   "name": "python",
   "nbconvert_exporter": "python",
   "pygments_lexer": "ipython3",
   "version": "3.10.6"
  },
  "vscode": {
   "interpreter": {
    "hash": "916dbcbb3f70747c44a77c7bcd40155683ae19c65e1c03b4aa3499c5328201f1"
   }
  }
 },
 "nbformat": 4,
 "nbformat_minor": 5
}
