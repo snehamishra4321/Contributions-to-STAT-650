{
  "cells": [
    {
      "cell_type": "markdown",
      "metadata": {
        "id": "RUhvwhQP-u_7"
      },
      "source": [
        "### Assignment-5"
      ]
    },
    {
      "cell_type": "markdown",
      "metadata": {
        "id": "9-NSGEl-pvRw"
      },
      "source": [
        "### UIN 733000826"
      ]
    },
    {
      "cell_type": "code",
      "execution_count": 4,
      "metadata": {
        "id": "E6Dx2Fkg-s98"
      },
      "outputs": [
        {
          "data": {
            "text/html": [
              "<div>\n",
              "<style scoped>\n",
              "    .dataframe tbody tr th:only-of-type {\n",
              "        vertical-align: middle;\n",
              "    }\n",
              "\n",
              "    .dataframe tbody tr th {\n",
              "        vertical-align: top;\n",
              "    }\n",
              "\n",
              "    .dataframe thead th {\n",
              "        text-align: right;\n",
              "    }\n",
              "</style>\n",
              "<table border=\"1\" class=\"dataframe\">\n",
              "  <thead>\n",
              "    <tr style=\"text-align: right;\">\n",
              "      <th></th>\n",
              "      <th>x1</th>\n",
              "      <th>x2</th>\n",
              "      <th>y</th>\n",
              "    </tr>\n",
              "  </thead>\n",
              "  <tbody>\n",
              "    <tr>\n",
              "      <th>0</th>\n",
              "      <td>0</td>\n",
              "      <td>1</td>\n",
              "      <td>4</td>\n",
              "    </tr>\n",
              "    <tr>\n",
              "      <th>1</th>\n",
              "      <td>5</td>\n",
              "      <td>1</td>\n",
              "      <td>5</td>\n",
              "    </tr>\n",
              "    <tr>\n",
              "      <th>2</th>\n",
              "      <td>15</td>\n",
              "      <td>2</td>\n",
              "      <td>20</td>\n",
              "    </tr>\n",
              "    <tr>\n",
              "      <th>3</th>\n",
              "      <td>25</td>\n",
              "      <td>5</td>\n",
              "      <td>14</td>\n",
              "    </tr>\n",
              "    <tr>\n",
              "      <th>4</th>\n",
              "      <td>35</td>\n",
              "      <td>11</td>\n",
              "      <td>32</td>\n",
              "    </tr>\n",
              "    <tr>\n",
              "      <th>5</th>\n",
              "      <td>45</td>\n",
              "      <td>15</td>\n",
              "      <td>22</td>\n",
              "    </tr>\n",
              "    <tr>\n",
              "      <th>6</th>\n",
              "      <td>50</td>\n",
              "      <td>25</td>\n",
              "      <td>90</td>\n",
              "    </tr>\n",
              "    <tr>\n",
              "      <th>7</th>\n",
              "      <td>55</td>\n",
              "      <td>34</td>\n",
              "      <td>38</td>\n",
              "    </tr>\n",
              "    <tr>\n",
              "      <th>8</th>\n",
              "      <td>60</td>\n",
              "      <td>35</td>\n",
              "      <td>43</td>\n",
              "    </tr>\n",
              "    <tr>\n",
              "      <th>9</th>\n",
              "      <td>70</td>\n",
              "      <td>38</td>\n",
              "      <td>45</td>\n",
              "    </tr>\n",
              "  </tbody>\n",
              "</table>\n",
              "</div>"
            ],
            "text/plain": [
              "   x1  x2   y\n",
              "0   0   1   4\n",
              "1   5   1   5\n",
              "2  15   2  20\n",
              "3  25   5  14\n",
              "4  35  11  32\n",
              "5  45  15  22\n",
              "6  50  25  90\n",
              "7  55  34  38\n",
              "8  60  35  43\n",
              "9  70  38  45"
            ]
          },
          "execution_count": 4,
          "metadata": {},
          "output_type": "execute_result"
        }
      ],
      "source": [
        "#Q-No.6:\n",
        "import numpy as np\n",
        "import pandas as pd\n",
        "import seaborn as sns\n",
        "from sklearn.linear_model import LinearRegression\n",
        "\n",
        "import warnings\n",
        "warnings.filterwarnings('ignore')\n",
        "\n",
        "# Data importing\n",
        "df = pd.read_csv('dataFile.csv', sep=',')\n",
        "df.head(10)"
      ]
    },
    {
      "cell_type": "code",
      "execution_count": 5,
      "metadata": {
        "colab": {
          "base_uri": "https://localhost:8080/",
          "height": 300
        },
        "id": "k21u8ngr-7mb",
        "outputId": "94771768-761c-46ec-e61c-e39c4d35de8b"
      },
      "outputs": [
        {
          "data": {
            "text/html": [
              "<div>\n",
              "<style scoped>\n",
              "    .dataframe tbody tr th:only-of-type {\n",
              "        vertical-align: middle;\n",
              "    }\n",
              "\n",
              "    .dataframe tbody tr th {\n",
              "        vertical-align: top;\n",
              "    }\n",
              "\n",
              "    .dataframe thead th {\n",
              "        text-align: right;\n",
              "    }\n",
              "</style>\n",
              "<table border=\"1\" class=\"dataframe\">\n",
              "  <thead>\n",
              "    <tr style=\"text-align: right;\">\n",
              "      <th></th>\n",
              "      <th>x1</th>\n",
              "      <th>x2</th>\n",
              "      <th>y</th>\n",
              "    </tr>\n",
              "  </thead>\n",
              "  <tbody>\n",
              "    <tr>\n",
              "      <th>count</th>\n",
              "      <td>11.000000</td>\n",
              "      <td>11.000000</td>\n",
              "      <td>11.000000</td>\n",
              "    </tr>\n",
              "    <tr>\n",
              "      <th>mean</th>\n",
              "      <td>40.454545</td>\n",
              "      <td>18.818182</td>\n",
              "      <td>33.000000</td>\n",
              "    </tr>\n",
              "    <tr>\n",
              "      <th>std</th>\n",
              "      <td>27.152766</td>\n",
              "      <td>15.911117</td>\n",
              "      <td>24.665766</td>\n",
              "    </tr>\n",
              "    <tr>\n",
              "      <th>min</th>\n",
              "      <td>0.000000</td>\n",
              "      <td>1.000000</td>\n",
              "      <td>4.000000</td>\n",
              "    </tr>\n",
              "    <tr>\n",
              "      <th>25%</th>\n",
              "      <td>20.000000</td>\n",
              "      <td>3.500000</td>\n",
              "      <td>17.000000</td>\n",
              "    </tr>\n",
              "    <tr>\n",
              "      <th>50%</th>\n",
              "      <td>45.000000</td>\n",
              "      <td>15.000000</td>\n",
              "      <td>32.000000</td>\n",
              "    </tr>\n",
              "    <tr>\n",
              "      <th>75%</th>\n",
              "      <td>57.500000</td>\n",
              "      <td>34.500000</td>\n",
              "      <td>44.000000</td>\n",
              "    </tr>\n",
              "    <tr>\n",
              "      <th>max</th>\n",
              "      <td>85.000000</td>\n",
              "      <td>40.000000</td>\n",
              "      <td>90.000000</td>\n",
              "    </tr>\n",
              "  </tbody>\n",
              "</table>\n",
              "</div>"
            ],
            "text/plain": [
              "              x1         x2          y\n",
              "count  11.000000  11.000000  11.000000\n",
              "mean   40.454545  18.818182  33.000000\n",
              "std    27.152766  15.911117  24.665766\n",
              "min     0.000000   1.000000   4.000000\n",
              "25%    20.000000   3.500000  17.000000\n",
              "50%    45.000000  15.000000  32.000000\n",
              "75%    57.500000  34.500000  44.000000\n",
              "max    85.000000  40.000000  90.000000"
            ]
          },
          "execution_count": 5,
          "metadata": {},
          "output_type": "execute_result"
        }
      ],
      "source": [
        "# Statistical values of the data\n",
        "df.describe()"
      ]
    },
    {
      "cell_type": "markdown",
      "metadata": {
        "id": "IdY2ywEjIxzm"
      },
      "source": [
        "##### (a) Fit a linear regression model and print estimated model parameters, coefficient of determination and check the significance of model parameters"
      ]
    },
    {
      "cell_type": "code",
      "execution_count": 6,
      "metadata": {
        "colab": {
          "base_uri": "https://localhost:8080/"
        },
        "id": "ti5LXHpWD0ai",
        "outputId": "ef29a3f8-740b-4a19-dbf0-3c73363ef2a5"
      },
      "outputs": [
        {
          "name": "stdout",
          "output_type": "stream",
          "text": [
            "const    9.324222\n",
            "x1       0.347996\n",
            "x2       0.510026\n",
            "dtype: float64\n",
            "==============================================================================\n",
            "R Squared value for the model_1: 0.4957235253511115\n",
            "<statsmodels.regression.linear_model.RegressionResultsWrapper object at 0x7f5e989acbb0>\n",
            "==============================================================================\n",
            "                            OLS Regression Results                            \n",
            "==============================================================================\n",
            "Dep. Variable:                      y   R-squared:                       0.496\n",
            "Model:                            OLS   Adj. R-squared:                  0.370\n",
            "Method:                 Least Squares   F-statistic:                     3.932\n",
            "Date:                Sun, 06 Nov 2022   Prob (F-statistic):             0.0647\n",
            "Time:                        01:16:11   Log-Likelihood:                -46.578\n",
            "No. Observations:                  11   AIC:                             99.16\n",
            "Df Residuals:                       8   BIC:                             100.4\n",
            "Df Model:                           2                                         \n",
            "Covariance Type:            nonrobust                                         \n",
            "==============================================================================\n",
            "                 coef    std err          t      P>|t|      [0.025      0.975]\n",
            "------------------------------------------------------------------------------\n",
            "const          9.3242     12.047      0.774      0.461     -18.456      37.105\n",
            "x1             0.3480      0.769      0.453      0.663      -1.425       2.121\n",
            "x2             0.5100      1.312      0.389      0.708      -2.516       3.536\n",
            "==============================================================================\n",
            "Omnibus:                       25.119   Durbin-Watson:                   2.535\n",
            "Prob(Omnibus):                  0.000   Jarque-Bera (JB):               20.898\n",
            "Skew:                           2.445   Prob(JB):                     2.90e-05\n",
            "Kurtosis:                       7.656   Cond. No.                         110.\n",
            "==============================================================================\n",
            "\n",
            "Notes:\n",
            "[1] Standard Errors assume that the covariance matrix of the errors is correctly specified.\n"
          ]
        }
      ],
      "source": [
        "import statsmodels.api as sm\n",
        "\n",
        "#defining response variable\n",
        "y = df['y']\n",
        "\n",
        "#defining predictor variables\n",
        "x = df[['x1', 'x2']]\n",
        "\n",
        "#adding constant to predictor variables\n",
        "x = sm.add_constant(x)\n",
        "\n",
        "#fitting linear regression model\n",
        "model = sm.OLS(y, x).fit()\n",
        "\n",
        "#model parameters\n",
        "\n",
        "print(model.params)\n",
        "print(\"==============================================================================\")\n",
        "\n",
        "print(\"R Squared value for the model_1:\",model.rsquared)\n",
        "print(model)\n",
        "\n",
        "print(\"==============================================================================\")\n",
        "#Display model summary\n",
        "print(model.summary())"
      ]
    },
    {
      "cell_type": "markdown",
      "metadata": {
        "id": "tLwsZ0Q8msmO"
      },
      "source": [
        "#### Significance of the liner regression\n"
      ]
    },
    {
      "cell_type": "markdown",
      "metadata": {
        "id": "msfiU6pKUTme"
      },
      "source": [
        "#### Significance\n",
        "\n",
        "- A high value of the P>|t| metric demonstrates that feature coefficient is likely to be 0, thereby not contributing significantly towards the prediction of target variable Y.\n",
        "\n",
        "#### From the above summary table:\n",
        "\n",
        "- For the feature x1, the P>|t| column demonstrates that there is a ~66% probability that the coefficient for x1 is 0.34. It is very likely that x1 feature does not contribute towards the prediction of the variable Y.\n",
        "- For the feature x2, the P>|t| column demonstarates that there is a ~70% probability that the coefficient for x2 is 0.51. It is very likely that the x2 feature does not contribute towards the prediction of the variable Y.\n",
        "- Here, x1 and x2 both parameters have a low t value. Hence, both are less likely to predict the target variable.\n",
        "- We are getting a low R-square value which represents there is no corelation between x1, x2 and the target variable.\n",
        "- We are getting a positive (F-statistic value) which represents that there is no linear co-relation between the target variable Y and X1, x2."
      ]
    },
    {
      "cell_type": "markdown",
      "metadata": {
        "id": "sXPjLX5_JBDq"
      },
      "source": [
        "##### (b) Check the nomality of residuals by providing suitable graphical interpretation"
      ]
    },
    {
      "cell_type": "code",
      "execution_count": 7,
      "metadata": {
        "colab": {
          "base_uri": "https://localhost:8080/",
          "height": 265
        },
        "id": "F0bBKhN7JAXq",
        "outputId": "c9f56ec0-a0a2-4163-c90e-7c24f89062e9"
      },
      "outputs": [
        {
          "data": {
            "image/png": "[encoded data removed]",
            "text/plain": [
              "<Figure size 432x288 with 1 Axes>"
            ]
          },
          "metadata": {
            "needs_background": "light"
          },
          "output_type": "display_data"
        }
      ],
      "source": [
        "# Checking Normality of residuals values\n",
        "\n",
        "residuals = model.resid\n",
        "residMean = np.mean(residuals)\n",
        "sns_plot = sns.histplot(x = residuals, kde=True)"
      ]
    },
    {
      "cell_type": "code",
      "execution_count": 8,
      "metadata": {
        "colab": {
          "base_uri": "https://localhost:8080/",
          "height": 279
        },
        "id": "OrDykOwVNBcK",
        "outputId": "52e97b5d-9f4e-479c-ea7a-4d97d6d14259"
      },
      "outputs": [
        {
          "data": {
            "image/png": "[encoded data removed]",
            "text/plain": [
              "<Figure size 432x288 with 1 Axes>"
            ]
          },
          "metadata": {
            "needs_background": "light"
          },
          "output_type": "display_data"
        }
      ],
      "source": [
        "# Q-Q plot for the verification of the residuals distribution\n",
        "fig = sm.qqplot(residuals, fit=True, line = '45')"
      ]
    },
    {
      "cell_type": "markdown",
      "metadata": {},
      "source": [
        "##### From the above plots, we can determine that the distribution for the data is not normal as the hist plot is one-sided highly skewed not forming a normal distribution curve and the Q-Q plot data points do not align with the straight line."
      ]
    },
    {
      "cell_type": "markdown",
      "metadata": {
        "id": "x-kBS8MONdWA"
      },
      "source": [
        "#### (c) Are there any outliers in the dataset? If yes, remove them and repeat step (a), (b), and (c) to fit a new model for the dataset without outliers."
      ]
    },
    {
      "cell_type": "code",
      "execution_count": 23,
      "metadata": {
        "colab": {
          "base_uri": "https://localhost:8080/"
        },
        "id": "FeEEuhaxBHoK",
        "outputId": "6f8f7d42-8b89-4dfb-88b6-2b6839677c5e"
      },
      "outputs": [
        {
          "name": "stdout",
          "output_type": "stream",
          "text": [
            "Outlier information\n",
            "   x1  x2   y\n",
            "6  50  25  90\n"
          ]
        }
      ],
      "source": [
        "# Calculation of total outliers in the dataframe\n",
        "\n",
        "def find_outliers(df, colm):\n",
        "  Q3 = np.quantile(df[colm], 0.75)\n",
        "  Q1 = np.quantile(df[colm], 0.25)\n",
        "  IQR = Q3 - Q1\n",
        "\n",
        "  lower_bound = Q1 - 1.5*IQR\n",
        "  upper_bound = Q3 - 1.5*IQR\n",
        "\n",
        "  outliers = df[((df[colm]<(Q1-1.5*IQR)) | (df[colm]>(Q3+1.5*IQR)))]\n",
        "\n",
        "  return (outliers,len(outliers))\n",
        "\n",
        "for colms in df.columns:\n",
        "  if df[colms].dtype in [\"int64\",\"float64\"]:\n",
        "    outlr, l = find_outliers(df,colms)\n",
        "    if(len(outlr)> 0):\n",
        "      print(\"Outlier information\")\n",
        "      print(outlr)"
      ]
    },
    {
      "cell_type": "markdown",
      "metadata": {
        "id": "A3eICpKLjouJ"
      },
      "source": [
        "From the above output, we get one outlier for the Target variable Y , that data point needs to be dropped. After dropping the outlier, the model is rebuilt."
      ]
    },
    {
      "cell_type": "code",
      "execution_count": 10,
      "metadata": {
        "colab": {
          "base_uri": "https://localhost:8080/",
          "height": 296
        },
        "id": "xkasVdV2ah-Y",
        "outputId": "aba271e6-8014-41b2-ce7d-73ba34e8110c"
      },
      "outputs": [
        {
          "data": {
            "text/plain": [
              "<AxesSubplot:xlabel='y'>"
            ]
          },
          "execution_count": 10,
          "metadata": {},
          "output_type": "execute_result"
        },
        {
          "data": {
            "image/png": "[encoded data removed]",
            "text/plain": [
              "<Figure size 432x288 with 1 Axes>"
            ]
          },
          "metadata": {
            "needs_background": "light"
          },
          "output_type": "display_data"
        }
      ],
      "source": [
        "#Outlier boxplot\n",
        "import seaborn as sns\n",
        "sns.boxplot(x='y',data=df)"
      ]
    },
    {
      "cell_type": "markdown",
      "metadata": {},
      "source": [
        "The above boxplot displays the single outlier in Y."
      ]
    },
    {
      "cell_type": "markdown",
      "metadata": {
        "id": "ZRlwyO-2j1iR"
      },
      "source": [
        "\\- Rebuilding the model by dropping the outlier values"
      ]
    },
    {
      "cell_type": "code",
      "execution_count": 11,
      "metadata": {
        "colab": {
          "base_uri": "https://localhost:8080/",
          "height": 363
        },
        "id": "voRU9GVcCNJX",
        "outputId": "72b534ec-18f3-4275-8da7-47c61faf4f9b"
      },
      "outputs": [
        {
          "data": {
            "text/html": [
              "<div>\n",
              "<style scoped>\n",
              "    .dataframe tbody tr th:only-of-type {\n",
              "        vertical-align: middle;\n",
              "    }\n",
              "\n",
              "    .dataframe tbody tr th {\n",
              "        vertical-align: top;\n",
              "    }\n",
              "\n",
              "    .dataframe thead th {\n",
              "        text-align: right;\n",
              "    }\n",
              "</style>\n",
              "<table border=\"1\" class=\"dataframe\">\n",
              "  <thead>\n",
              "    <tr style=\"text-align: right;\">\n",
              "      <th></th>\n",
              "      <th>x1</th>\n",
              "      <th>x2</th>\n",
              "      <th>y</th>\n",
              "    </tr>\n",
              "  </thead>\n",
              "  <tbody>\n",
              "    <tr>\n",
              "      <th>0</th>\n",
              "      <td>0</td>\n",
              "      <td>1</td>\n",
              "      <td>4</td>\n",
              "    </tr>\n",
              "    <tr>\n",
              "      <th>1</th>\n",
              "      <td>5</td>\n",
              "      <td>1</td>\n",
              "      <td>5</td>\n",
              "    </tr>\n",
              "    <tr>\n",
              "      <th>2</th>\n",
              "      <td>15</td>\n",
              "      <td>2</td>\n",
              "      <td>20</td>\n",
              "    </tr>\n",
              "    <tr>\n",
              "      <th>3</th>\n",
              "      <td>25</td>\n",
              "      <td>5</td>\n",
              "      <td>14</td>\n",
              "    </tr>\n",
              "    <tr>\n",
              "      <th>4</th>\n",
              "      <td>35</td>\n",
              "      <td>11</td>\n",
              "      <td>32</td>\n",
              "    </tr>\n",
              "    <tr>\n",
              "      <th>5</th>\n",
              "      <td>45</td>\n",
              "      <td>15</td>\n",
              "      <td>22</td>\n",
              "    </tr>\n",
              "    <tr>\n",
              "      <th>7</th>\n",
              "      <td>55</td>\n",
              "      <td>34</td>\n",
              "      <td>38</td>\n",
              "    </tr>\n",
              "    <tr>\n",
              "      <th>8</th>\n",
              "      <td>60</td>\n",
              "      <td>35</td>\n",
              "      <td>43</td>\n",
              "    </tr>\n",
              "    <tr>\n",
              "      <th>9</th>\n",
              "      <td>70</td>\n",
              "      <td>38</td>\n",
              "      <td>45</td>\n",
              "    </tr>\n",
              "    <tr>\n",
              "      <th>10</th>\n",
              "      <td>85</td>\n",
              "      <td>40</td>\n",
              "      <td>50</td>\n",
              "    </tr>\n",
              "  </tbody>\n",
              "</table>\n",
              "</div>"
            ],
            "text/plain": [
              "    x1  x2   y\n",
              "0    0   1   4\n",
              "1    5   1   5\n",
              "2   15   2  20\n",
              "3   25   5  14\n",
              "4   35  11  32\n",
              "5   45  15  22\n",
              "7   55  34  38\n",
              "8   60  35  43\n",
              "9   70  38  45\n",
              "10  85  40  50"
            ]
          },
          "execution_count": 11,
          "metadata": {},
          "output_type": "execute_result"
        }
      ],
      "source": [
        "# dropping outliers \n",
        "df_drop = df.drop([outlr.index[0]])\n",
        "df_drop"
      ]
    },
    {
      "cell_type": "markdown",
      "metadata": {
        "id": "LABneBCjqqmW"
      },
      "source": [
        "##### Linear Regression Model after dropping Outlier "
      ]
    },
    {
      "cell_type": "code",
      "execution_count": 12,
      "metadata": {
        "id": "NCCy824ZDXwt"
      },
      "outputs": [
        {
          "name": "stdout",
          "output_type": "stream",
          "text": [
            "                            OLS Regression Results                            \n",
            "==============================================================================\n",
            "Dep. Variable:                      y   R-squared:                       0.916\n",
            "Model:                            OLS   Adj. R-squared:                  0.892\n",
            "Method:                 Least Squares   F-statistic:                     38.11\n",
            "Date:                Sun, 06 Nov 2022   Prob (F-statistic):           0.000173\n",
            "Time:                        01:16:12   Log-Likelihood:                -29.439\n",
            "No. Observations:                  10   AIC:                             64.88\n",
            "Df Residuals:                       7   BIC:                             65.79\n",
            "Df Model:                           2                                         \n",
            "Covariance Type:            nonrobust                                         \n",
            "==============================================================================\n",
            "                 coef    std err          t      P>|t|      [0.025      0.975]\n",
            "------------------------------------------------------------------------------\n",
            "const          6.3305      3.393      1.866      0.104      -1.691      14.353\n",
            "x1             0.3941      0.216      1.827      0.110      -0.116       0.904\n",
            "x2             0.2968      0.369      0.805      0.447      -0.575       1.169\n",
            "==============================================================================\n",
            "Omnibus:                        1.303   Durbin-Watson:                   3.186\n",
            "Prob(Omnibus):                  0.521   Jarque-Bera (JB):                0.886\n",
            "Skew:                           0.648   Prob(JB):                        0.642\n",
            "Kurtosis:                       2.330   Cond. No.                         104.\n",
            "==============================================================================\n",
            "\n",
            "Notes:\n",
            "[1] Standard Errors assume that the covariance matrix of the errors is correctly specified.\n"
          ]
        }
      ],
      "source": [
        "# Statsmodel module implementation\n",
        "import statsmodels.api as sm\n",
        "\n",
        "#defining response variable\n",
        "y = df_drop['y']\n",
        "\n",
        "#define predictor variables\n",
        "x = df_drop[['x1', 'x2']]\n",
        "\n",
        "#X_train, X_test, y_train, y_test = train_test_split(x, y, random_state=42, test_size=0.1)\n",
        "\n",
        "#add constant to predictor variables\n",
        "x = sm.add_constant(x)\n",
        "\n",
        "#fit linear regression model\n",
        "model = sm.OLS(y, x).fit()\n",
        "\n",
        "#view model summary\n",
        "print(model.summary())"
      ]
    },
    {
      "cell_type": "markdown",
      "metadata": {},
      "source": [
        "### Significance\n",
        "\n",
        "- A high value of the P>|t| metric demonstrates that feature coefficient is likely to be 0, thereby not contributing significantly towards the prediction of target variable Y.\n",
        "\n",
        "#### From the above summary table:\n",
        "\n",
        "- For the feature x1, the P>|t| column demonstrates that there is a ~11% probability that the coefficient for x1 is 0.39. It is likely that x1 feature may contribute towards the prediction of the variable Y.\n",
        "- For the feature x2, the P>|t| column demonstarates that there is a ~45% probability that the coefficient for x2 is 0.29. It is very likely that the x2 feature does not contribute towards the prediction of the variable Y.\n",
        "- We are getting a high R-square value which represents there is corelation between x1, x2 and the target variable.\n",
        "- We are getting a low prob (F-statistic value very close to zero) which represents that there is linear co-relation between the target variable Y and X1, x2."
      ]
    },
    {
      "cell_type": "markdown",
      "metadata": {},
      "source": []
    },
    {
      "cell_type": "code",
      "execution_count": 13,
      "metadata": {
        "id": "8X38iGhYOElU"
      },
      "outputs": [
        {
          "data": {
            "image/png": "[encoded data removed]",
            "text/plain": [
              "<Figure size 432x288 with 1 Axes>"
            ]
          },
          "metadata": {
            "needs_background": "light"
          },
          "output_type": "display_data"
        }
      ],
      "source": [
        "## Residual and Q-Q plot of Df, after dropping the outlier\n",
        "residuals = model.resid\n",
        "residMean = np.mean(residuals)\n",
        "sns_plot = sns.histplot(x = residuals, kde=True)"
      ]
    },
    {
      "cell_type": "code",
      "execution_count": 14,
      "metadata": {
        "id": "7vQ8P4tROdLQ"
      },
      "outputs": [
        {
          "data": {
            "image/png": "[encoded data removed]",
            "text/plain": [
              "<Figure size 432x288 with 1 Axes>"
            ]
          },
          "metadata": {
            "needs_background": "light"
          },
          "output_type": "display_data"
        }
      ],
      "source": [
        "## Q-Q plot \n",
        "\n",
        "fig = sm.qqplot(residuals, fit=True, line = '45')"
      ]
    },
    {
      "cell_type": "markdown",
      "metadata": {},
      "source": [
        "After dropping the outlier datapoint in Y, we can see that the distribution we are getting is very close to a normal distribution. The hist plot is a close representation of a normal distribution curve and the Q-Q plot data points are close to the straight line."
      ]
    },
    {
      "cell_type": "markdown",
      "metadata": {
        "id": "JykG4oNTY3FY"
      },
      "source": [
        "##### d) By using the outliers free data and the corresponding model, find the confidence range for predicted values of Y."
      ]
    },
    {
      "cell_type": "code",
      "execution_count": 21,
      "metadata": {
        "id": "QkNShHWHPcJ4"
      },
      "outputs": [
        {
          "name": "stdout",
          "output_type": "stream",
          "text": [
            "0      6.627293\n",
            "1      8.598000\n",
            "2     12.836167\n",
            "3     17.667835\n",
            "4     23.389756\n",
            "5     28.518175\n",
            "7     38.097860\n",
            "8     40.365318\n",
            "9     45.196986\n",
            "10    51.702611\n",
            "dtype: float64\n"
          ]
        },
        {
          "data": {
            "text/html": [
              "<div>\n",
              "<style scoped>\n",
              "    .dataframe tbody tr th:only-of-type {\n",
              "        vertical-align: middle;\n",
              "    }\n",
              "\n",
              "    .dataframe tbody tr th {\n",
              "        vertical-align: top;\n",
              "    }\n",
              "\n",
              "    .dataframe thead th {\n",
              "        text-align: right;\n",
              "    }\n",
              "</style>\n",
              "<table border=\"1\" class=\"dataframe\">\n",
              "  <thead>\n",
              "    <tr style=\"text-align: right;\">\n",
              "      <th></th>\n",
              "      <th>const</th>\n",
              "      <th>x1</th>\n",
              "      <th>x2</th>\n",
              "    </tr>\n",
              "  </thead>\n",
              "  <tbody>\n",
              "    <tr>\n",
              "      <th>const</th>\n",
              "      <td>11.509095</td>\n",
              "      <td>-0.456551</td>\n",
              "      <td>0.524224</td>\n",
              "    </tr>\n",
              "    <tr>\n",
              "      <th>x1</th>\n",
              "      <td>-0.456551</td>\n",
              "      <td>0.046528</td>\n",
              "      <td>-0.075896</td>\n",
              "    </tr>\n",
              "    <tr>\n",
              "      <th>x2</th>\n",
              "      <td>0.524224</td>\n",
              "      <td>-0.075896</td>\n",
              "      <td>0.135915</td>\n",
              "    </tr>\n",
              "  </tbody>\n",
              "</table>\n",
              "</div>"
            ],
            "text/plain": [
              "           const        x1        x2\n",
              "const  11.509095 -0.456551  0.524224\n",
              "x1     -0.456551  0.046528 -0.075896\n",
              "x2      0.524224 -0.075896  0.135915"
            ]
          },
          "execution_count": 21,
          "metadata": {},
          "output_type": "execute_result"
        }
      ],
      "source": [
        "predicted = model.fittedvalues\n",
        "print(predicted)\n",
        "x_1 = model.model.exog # this is the observation matrix used to fit the data\n",
        "covMatrixForParams = model.cov_params()\n",
        "covMatrixForParams"
      ]
    },
    {
      "cell_type": "code",
      "execution_count": null,
      "metadata": {
        "id": "OqR-FislRVQR"
      },
      "outputs": [],
      "source": []
    },
    {
      "cell_type": "code",
      "execution_count": 16,
      "metadata": {
        "id": "QpdosG8iPiln"
      },
      "outputs": [
        {
          "name": "stdout",
          "output_type": "stream",
          "text": [
            "[6.54640276 6.22045958 6.04401211 6.13103606 6.02064062 6.21682317\n",
            " 6.41191095 6.23018632 6.17074423 6.59795439]\n"
          ]
        }
      ],
      "source": [
        "covMatrixForPredictedPts = np.matmul(x_1, np.matmul(covMatrixForParams, x_1.T))\n",
        "varPredictedPts = np.diagonal(covMatrixForPredictedPts)\n",
        "varPredictedLine = model.mse_resid\n",
        "totVarPredicted = varPredictedLine + varPredictedPts\n",
        "totSePredicted = np.sqrt(totVarPredicted)\n",
        "print(totSePredicted)\n",
        "\n",
        "from scipy.stats import t\n",
        "alpha=0.05 # confidence interval for two-sided hypothesis\n",
        "qt = 1 - (alpha/2)  # (0.25, 0.975) for a 2-sided 95% probability\n",
        "\n",
        "tppf = t.isf(alpha/2.0, model.df_resid)"
      ]
    },
    {
      "cell_type": "code",
      "execution_count": 17,
      "metadata": {
        "id": "tKPlu6dcPtSn"
      },
      "outputs": [],
      "source": [
        "interval_u = predicted + tppf * totSePredicted\n",
        "interval_l = predicted - tppf * totSePredicted"
      ]
    },
    {
      "cell_type": "code",
      "execution_count": 18,
      "metadata": {
        "id": "fI7uvNB5Pm5X"
      },
      "outputs": [
        {
          "name": "stdout",
          "output_type": "stream",
          "text": [
            "----------------\n",
            "        upper      lower  predicted values\n",
            "0   22.107076  -8.852490          6.627293\n",
            "1   23.307050  -6.111049          8.598000\n",
            "2   27.127984  -1.455651         12.836167\n",
            "3   32.165431   3.170238         17.667835\n",
            "4   37.626309   9.153203         23.389756\n",
            "5   43.218626  13.817724         28.518175\n",
            "7   53.259620  22.936099         38.097860\n",
            "8   55.097368  25.633268         40.365318\n",
            "9   59.788478  30.605495         45.196986\n",
            "10  67.304294  36.100928         51.702611\n"
          ]
        }
      ],
      "source": [
        "from pandas.core.arrays import interval\n",
        "y_pred = model.predict(x)\n",
        "d = {'upper':interval_u,'lower':interval_l,'predicted values':y_pred}\n",
        "df_result = pd.DataFrame(data=d)\n",
        "print(\"----------------\")\n",
        "print(df_result)"
      ]
    },
    {
      "cell_type": "markdown",
      "metadata": {
        "id": "pA6xpwZgWyUv"
      },
      "source": [
        "##### e) Use your model in (c) to predict   values when \n",
        "#####(x1, x2) = (1,2),(3,4),(5,6),(7,8),(9,10),(11,12),(13,14)"
      ]
    },
    {
      "cell_type": "code",
      "execution_count": 19,
      "metadata": {
        "colab": {
          "base_uri": "https://localhost:8080/"
        },
        "id": "WJkPvB3RD3pC",
        "outputId": "4e7b905c-2fd5-43f6-b0ea-804e89c14989"
      },
      "outputs": [
        {
          "name": "stdout",
          "output_type": "stream",
          "text": [
            "----------------\n",
            "   x1  x2  predicted values\n",
            "0   1   2          7.318186\n",
            "1   3   4          8.699971\n",
            "2   5   6         10.081756\n",
            "3   7   8         11.463541\n",
            "4   9  10         12.845326\n",
            "5  11  12         14.227111\n",
            "6  13  14         15.608896\n"
          ]
        }
      ],
      "source": [
        "# Predicting model\n",
        "d = {'x1': [1, 3, 5, 7, 9, 11, 13], 'x2': [2, 4,6,8,10,12,14]}\n",
        "df_test = pd.DataFrame(data=d)\n",
        "\n",
        "x = df_test[['x1','x2']]\n",
        "x = sm.add_constant(x)\n",
        "\n",
        "y_pred = model.predict(x)\n",
        "d = {'x1':df_test.x1,'x2':df_test.x2,'predicted values':y_pred}\n",
        "df_result = pd.DataFrame(data=d)\n",
        "print(\"----------------\")\n",
        "print(df_result)"
      ]
    },
    {
      "cell_type": "code",
      "execution_count": 20,
      "metadata": {
        "id": "rNIk19lhql4E"
      },
      "outputs": [
        {
          "data": {
            "text/html": [
              "<div>\n",
              "<style scoped>\n",
              "    .dataframe tbody tr th:only-of-type {\n",
              "        vertical-align: middle;\n",
              "    }\n",
              "\n",
              "    .dataframe tbody tr th {\n",
              "        vertical-align: top;\n",
              "    }\n",
              "\n",
              "    .dataframe thead th {\n",
              "        text-align: right;\n",
              "    }\n",
              "</style>\n",
              "<table border=\"1\" class=\"dataframe\">\n",
              "  <thead>\n",
              "    <tr style=\"text-align: right;\">\n",
              "      <th></th>\n",
              "      <th>x1</th>\n",
              "      <th>x2</th>\n",
              "    </tr>\n",
              "  </thead>\n",
              "  <tbody>\n",
              "    <tr>\n",
              "      <th>0</th>\n",
              "      <td>1</td>\n",
              "      <td>2</td>\n",
              "    </tr>\n",
              "    <tr>\n",
              "      <th>1</th>\n",
              "      <td>3</td>\n",
              "      <td>4</td>\n",
              "    </tr>\n",
              "    <tr>\n",
              "      <th>2</th>\n",
              "      <td>5</td>\n",
              "      <td>6</td>\n",
              "    </tr>\n",
              "    <tr>\n",
              "      <th>3</th>\n",
              "      <td>7</td>\n",
              "      <td>8</td>\n",
              "    </tr>\n",
              "    <tr>\n",
              "      <th>4</th>\n",
              "      <td>9</td>\n",
              "      <td>10</td>\n",
              "    </tr>\n",
              "    <tr>\n",
              "      <th>5</th>\n",
              "      <td>11</td>\n",
              "      <td>12</td>\n",
              "    </tr>\n",
              "    <tr>\n",
              "      <th>6</th>\n",
              "      <td>13</td>\n",
              "      <td>14</td>\n",
              "    </tr>\n",
              "  </tbody>\n",
              "</table>\n",
              "</div>"
            ],
            "text/plain": [
              "   x1  x2\n",
              "0   1   2\n",
              "1   3   4\n",
              "2   5   6\n",
              "3   7   8\n",
              "4   9  10\n",
              "5  11  12\n",
              "6  13  14"
            ]
          },
          "execution_count": 20,
          "metadata": {},
          "output_type": "execute_result"
        }
      ],
      "source": [
        "df_test"
      ]
    }
  ],
  "metadata": {
    "colab": {
      "collapsed_sections": [],
      "provenance": []
    },
    "kernelspec": {
      "display_name": "Python 3.9.12 ('base')",
      "language": "python",
      "name": "python3"
    },
    "language_info": {
      "codemirror_mode": {
        "name": "ipython",
        "version": 3
      },
      "file_extension": ".py",
      "mimetype": "text/x-python",
      "name": "python",
      "nbconvert_exporter": "python",
      "pygments_lexer": "ipython3",
      "version": "3.9.12"
    },
    "vscode": {
      "interpreter": {
        "hash": "ec82f12a2cb47047b534e9c669340dcebb498bf61f15a6577c32df05515dbebf"
      }
    }
  },
  "nbformat": 4,
  "nbformat_minor": 0
}
